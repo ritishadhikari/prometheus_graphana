{
 "cells": [
  {
   "cell_type": "code",
   "execution_count": 1,
   "id": "b138c941-87be-483c-8076-5264cdd69932",
   "metadata": {},
   "outputs": [],
   "source": [
    "from prometheus_client import start_http_server,Summary,Counter,Gauge\n",
    "import random\n",
    "import time"
   ]
  },
  {
   "cell_type": "code",
   "execution_count": 2,
   "id": "80296735-4952-4661-b0ce-46f9e0935d96",
   "metadata": {},
   "outputs": [],
   "source": [
    "REQUEST_TIME=Summary(name=\"request_processing_second\",documentation=\"Time Spent processing a function\")"
   ]
  },
  {
   "cell_type": "code",
   "execution_count": 3,
   "id": "607b291d-284e-4986-8d51-8abd3c47dbeb",
   "metadata": {},
   "outputs": [
    {
     "ename": "KeyboardInterrupt",
     "evalue": "",
     "output_type": "error",
     "traceback": [
      "\u001b[31m---------------------------------------------------------------------------\u001b[39m",
      "\u001b[31mKeyboardInterrupt\u001b[39m                         Traceback (most recent call last)",
      "\u001b[36mCell\u001b[39m\u001b[36m \u001b[39m\u001b[32mIn[3]\u001b[39m\u001b[32m, line 7\u001b[39m\n\u001b[32m      5\u001b[39m start_http_server(port=\u001b[32m8000\u001b[39m)\n\u001b[32m      6\u001b[39m \u001b[38;5;28;01mwhile\u001b[39;00m \u001b[38;5;28;01mTrue\u001b[39;00m:\n\u001b[32m----> \u001b[39m\u001b[32m7\u001b[39m     \u001b[43mprocess_request\u001b[49m\u001b[43m(\u001b[49m\u001b[43mt\u001b[49m\u001b[43m=\u001b[49m\u001b[43mrandom\u001b[49m\u001b[43m.\u001b[49m\u001b[43mrandom\u001b[49m\u001b[43m(\u001b[49m\u001b[43m)\u001b[49m\u001b[43m)\u001b[49m\n\u001b[32m      9\u001b[39m \u001b[38;5;28mprint\u001b[39m(\u001b[33m\"\u001b[39m\u001b[33mThe End\u001b[39m\u001b[33m\"\u001b[39m)\n",
      "\u001b[36mFile \u001b[39m\u001b[32m<decorator-gen-1>:2\u001b[39m, in \u001b[36mprocess_request\u001b[39m\u001b[34m(t)\u001b[39m\n",
      "\u001b[36mFile \u001b[39m\u001b[32m~/Studies/prometheus_graphana/prmenv/lib/python3.12/site-packages/prometheus_client/context_managers.py:80\u001b[39m, in \u001b[36mTimer.__call__.<locals>.wrapped\u001b[39m\u001b[34m(func, *args, **kwargs)\u001b[39m\n\u001b[32m     76\u001b[39m \u001b[38;5;28;01mdef\u001b[39;00m\u001b[38;5;250m \u001b[39m\u001b[34mwrapped\u001b[39m(func, *args, **kwargs):\n\u001b[32m     77\u001b[39m     \u001b[38;5;66;03m# Obtaining new instance of timer every time\u001b[39;00m\n\u001b[32m     78\u001b[39m     \u001b[38;5;66;03m# ensures thread safety and reentrancy.\u001b[39;00m\n\u001b[32m     79\u001b[39m     \u001b[38;5;28;01mwith\u001b[39;00m \u001b[38;5;28mself\u001b[39m._new_timer():\n\u001b[32m---> \u001b[39m\u001b[32m80\u001b[39m         \u001b[38;5;28;01mreturn\u001b[39;00m \u001b[43mfunc\u001b[49m\u001b[43m(\u001b[49m\u001b[43m*\u001b[49m\u001b[43margs\u001b[49m\u001b[43m,\u001b[49m\u001b[43m \u001b[49m\u001b[43m*\u001b[49m\u001b[43m*\u001b[49m\u001b[43mkwargs\u001b[49m\u001b[43m)\u001b[49m\n",
      "\u001b[36mCell\u001b[39m\u001b[36m \u001b[39m\u001b[32mIn[3]\u001b[39m\u001b[32m, line 3\u001b[39m, in \u001b[36mprocess_request\u001b[39m\u001b[34m(t)\u001b[39m\n\u001b[32m      1\u001b[39m \u001b[38;5;129m@REQUEST_TIME\u001b[39m.time()\n\u001b[32m      2\u001b[39m \u001b[38;5;28;01mdef\u001b[39;00m\u001b[38;5;250m \u001b[39m\u001b[34mprocess_request\u001b[39m(t):\n\u001b[32m----> \u001b[39m\u001b[32m3\u001b[39m     \u001b[43mtime\u001b[49m\u001b[43m.\u001b[49m\u001b[43msleep\u001b[49m\u001b[43m(\u001b[49m\u001b[43mt\u001b[49m\u001b[43m)\u001b[49m\n",
      "\u001b[31mKeyboardInterrupt\u001b[39m: "
     ]
    }
   ],
   "source": [
    "@REQUEST_TIME.time()\n",
    "def process_request(t):\n",
    "    time.sleep(t)\n",
    "\n",
    "start_http_server(port=8000)\n",
    "while True:\n",
    "    process_request(t=random.random())\n",
    "\n",
    "print(\"The End\")"
   ]
  },
  {
   "cell_type": "markdown",
   "id": "80d3710a-bbbd-4850-8221-3bef680ba4ea",
   "metadata": {},
   "source": [
    "<h3>Counter</h3>"
   ]
  },
  {
   "cell_type": "code",
   "execution_count": 5,
   "id": "8d174181-84e9-491a-8ba3-2350f679d785",
   "metadata": {},
   "outputs": [],
   "source": [
    "MY_COUNTER=Counter(name=\"my_counter\",documentation=\"\")"
   ]
  },
  {
   "cell_type": "code",
   "execution_count": 6,
   "id": "bebb7936-5ca1-43fc-b67b-4cef3e63b1d4",
   "metadata": {
    "scrolled": true
   },
   "outputs": [
    {
     "ename": "KeyboardInterrupt",
     "evalue": "",
     "output_type": "error",
     "traceback": [
      "\u001b[31m---------------------------------------------------------------------------\u001b[39m",
      "\u001b[31mKeyboardInterrupt\u001b[39m                         Traceback (most recent call last)",
      "\u001b[36mCell\u001b[39m\u001b[36m \u001b[39m\u001b[32mIn[6]\u001b[39m\u001b[32m, line 8\u001b[39m\n\u001b[32m      6\u001b[39m start_http_server(port=\u001b[32m8000\u001b[39m)\n\u001b[32m      7\u001b[39m process_request(t=random.random(),n=random.randint(a=\u001b[32m1\u001b[39m,b=\u001b[32m10\u001b[39m))\n\u001b[32m----> \u001b[39m\u001b[32m8\u001b[39m \u001b[38;5;28;01mwhile\u001b[39;00m \u001b[38;5;28;01mTrue\u001b[39;00m:\n\u001b[32m      9\u001b[39m     A=\u001b[32m1\u001b[39m\n\u001b[32m     10\u001b[39m \u001b[38;5;28mprint\u001b[39m(\u001b[33m\"\u001b[39m\u001b[33mThe End\u001b[39m\u001b[33m\"\u001b[39m)\n",
      "\u001b[31mKeyboardInterrupt\u001b[39m: "
     ]
    }
   ],
   "source": [
    "@REQUEST_TIME.time()\n",
    "def process_request(t,n):\n",
    "    MY_COUNTER.inc(amount=n)    \n",
    "    time.sleep(t)\n",
    "\n",
    "start_http_server(port=8000)\n",
    "process_request(t=random.random(),n=random.randint(a=1,b=10))\n",
    "while True:\n",
    "    A=1\n",
    "print(\"The End\")"
   ]
  },
  {
   "cell_type": "markdown",
   "id": "8aa46bb4-0c11-4d52-a467-57bc09121a43",
   "metadata": {},
   "source": [
    "<h3>Guage</h3>"
   ]
  },
  {
   "cell_type": "code",
   "execution_count": 3,
   "id": "e998f7c0-2a2a-40b3-886d-d834a0753ce2",
   "metadata": {},
   "outputs": [],
   "source": [
    "MY_GUAGE=Gauge(name=\"my_gauge\",documentation=\"\")"
   ]
  },
  {
   "cell_type": "code",
   "execution_count": 7,
   "id": "d85b8c01-bf3f-4600-b1de-d36c0f827551",
   "metadata": {},
   "outputs": [
    {
     "ename": "ValueError",
     "evalue": "counter metric is missing label values",
     "output_type": "error",
     "traceback": [
      "\u001b[31m---------------------------------------------------------------------------\u001b[39m",
      "\u001b[31mValueError\u001b[39m                                Traceback (most recent call last)",
      "\u001b[36mCell\u001b[39m\u001b[36m \u001b[39m\u001b[32mIn[7]\u001b[39m\u001b[32m, line 10\u001b[39m\n\u001b[32m      7\u001b[39m     time.sleep(t)\n\u001b[32m      9\u001b[39m start_http_server(port=\u001b[32m8000\u001b[39m)\n\u001b[32m---> \u001b[39m\u001b[32m10\u001b[39m \u001b[43mprocess_request\u001b[49m\u001b[43m(\u001b[49m\u001b[43mt\u001b[49m\u001b[43m=\u001b[49m\u001b[43mrandom\u001b[49m\u001b[43m.\u001b[49m\u001b[43mrandom\u001b[49m\u001b[43m(\u001b[49m\u001b[43m)\u001b[49m\u001b[43m,\u001b[49m\u001b[43mn\u001b[49m\u001b[43m=\u001b[49m\u001b[43mrandom\u001b[49m\u001b[43m.\u001b[49m\u001b[43mrandint\u001b[49m\u001b[43m(\u001b[49m\u001b[43ma\u001b[49m\u001b[43m=\u001b[49m\u001b[32;43m1\u001b[39;49m\u001b[43m,\u001b[49m\u001b[43mb\u001b[49m\u001b[43m=\u001b[49m\u001b[32;43m10\u001b[39;49m\u001b[43m)\u001b[49m\u001b[43m)\u001b[49m\n\u001b[32m     11\u001b[39m \u001b[38;5;28;01mwhile\u001b[39;00m \u001b[38;5;28;01mTrue\u001b[39;00m:\n\u001b[32m     12\u001b[39m     A=\u001b[32m1\u001b[39m\n",
      "\u001b[36mFile \u001b[39m\u001b[32m<decorator-gen-1>:2\u001b[39m, in \u001b[36mprocess_request\u001b[39m\u001b[34m(t, n)\u001b[39m\n",
      "\u001b[36mFile \u001b[39m\u001b[32m~/Studies/prometheus_graphana/prmenv/lib/python3.12/site-packages/prometheus_client/context_managers.py:80\u001b[39m, in \u001b[36mTimer.__call__.<locals>.wrapped\u001b[39m\u001b[34m(func, *args, **kwargs)\u001b[39m\n\u001b[32m     76\u001b[39m \u001b[38;5;28;01mdef\u001b[39;00m\u001b[38;5;250m \u001b[39m\u001b[34mwrapped\u001b[39m(func, *args, **kwargs):\n\u001b[32m     77\u001b[39m     \u001b[38;5;66;03m# Obtaining new instance of timer every time\u001b[39;00m\n\u001b[32m     78\u001b[39m     \u001b[38;5;66;03m# ensures thread safety and reentrancy.\u001b[39;00m\n\u001b[32m     79\u001b[39m     \u001b[38;5;28;01mwith\u001b[39;00m \u001b[38;5;28mself\u001b[39m._new_timer():\n\u001b[32m---> \u001b[39m\u001b[32m80\u001b[39m         \u001b[38;5;28;01mreturn\u001b[39;00m \u001b[43mfunc\u001b[49m\u001b[43m(\u001b[49m\u001b[43m*\u001b[49m\u001b[43margs\u001b[49m\u001b[43m,\u001b[49m\u001b[43m \u001b[49m\u001b[43m*\u001b[49m\u001b[43m*\u001b[49m\u001b[43mkwargs\u001b[49m\u001b[43m)\u001b[49m\n",
      "\u001b[36mCell\u001b[39m\u001b[36m \u001b[39m\u001b[32mIn[7]\u001b[39m\u001b[32m, line 3\u001b[39m, in \u001b[36mprocess_request\u001b[39m\u001b[34m(t, n)\u001b[39m\n\u001b[32m      1\u001b[39m \u001b[38;5;129m@REQUEST_TIME\u001b[39m.time()\n\u001b[32m      2\u001b[39m \u001b[38;5;28;01mdef\u001b[39;00m\u001b[38;5;250m \u001b[39m\u001b[34mprocess_request\u001b[39m(t,n):\n\u001b[32m----> \u001b[39m\u001b[32m3\u001b[39m     \u001b[43mMY_COUNTER\u001b[49m\u001b[43m.\u001b[49m\u001b[43minc\u001b[49m\u001b[43m(\u001b[49m\u001b[43mamount\u001b[49m\u001b[43m=\u001b[49m\u001b[43mn\u001b[49m\u001b[43m)\u001b[49m\n\u001b[32m      4\u001b[39m     MY_GUAGE.set(value=\u001b[32m2\u001b[39m)  \u001b[38;5;66;03m# set the gauge\u001b[39;00m\n\u001b[32m      5\u001b[39m     MY_GUAGE.inc(amount=n)  \u001b[38;5;66;03m# increase the gauge\u001b[39;00m\n",
      "\u001b[36mFile \u001b[39m\u001b[32m~/Studies/prometheus_graphana/prmenv/lib/python3.12/site-packages/prometheus_client/metrics.py:311\u001b[39m, in \u001b[36mCounter.inc\u001b[39m\u001b[34m(self, amount, exemplar)\u001b[39m\n\u001b[32m    309\u001b[39m \u001b[38;5;28;01mdef\u001b[39;00m\u001b[38;5;250m \u001b[39m\u001b[34minc\u001b[39m(\u001b[38;5;28mself\u001b[39m, amount: \u001b[38;5;28mfloat\u001b[39m = \u001b[32m1\u001b[39m, exemplar: Optional[Dict[\u001b[38;5;28mstr\u001b[39m, \u001b[38;5;28mstr\u001b[39m]] = \u001b[38;5;28;01mNone\u001b[39;00m) -> \u001b[38;5;28;01mNone\u001b[39;00m:\n\u001b[32m    310\u001b[39m \u001b[38;5;250m    \u001b[39m\u001b[33;03m\"\"\"Increment counter by the given amount.\"\"\"\u001b[39;00m\n\u001b[32m--> \u001b[39m\u001b[32m311\u001b[39m     \u001b[38;5;28;43mself\u001b[39;49m\u001b[43m.\u001b[49m\u001b[43m_raise_if_not_observable\u001b[49m\u001b[43m(\u001b[49m\u001b[43m)\u001b[49m\n\u001b[32m    312\u001b[39m     \u001b[38;5;28;01mif\u001b[39;00m amount < \u001b[32m0\u001b[39m:\n\u001b[32m    313\u001b[39m         \u001b[38;5;28;01mraise\u001b[39;00m \u001b[38;5;167;01mValueError\u001b[39;00m(\u001b[33m'\u001b[39m\u001b[33mCounters can only be incremented by non-negative amounts.\u001b[39m\u001b[33m'\u001b[39m)\n",
      "\u001b[36mFile \u001b[39m\u001b[32m~/Studies/prometheus_graphana/prmenv/lib/python3.12/site-packages/prometheus_client/metrics.py:101\u001b[39m, in \u001b[36mMetricWrapperBase._raise_if_not_observable\u001b[39m\u001b[34m(self)\u001b[39m\n\u001b[32m     96\u001b[39m \u001b[38;5;28;01mdef\u001b[39;00m\u001b[38;5;250m \u001b[39m\u001b[34m_raise_if_not_observable\u001b[39m(\u001b[38;5;28mself\u001b[39m):\n\u001b[32m     97\u001b[39m     \u001b[38;5;66;03m# Functions that mutate the state of the metric, for example incrementing\u001b[39;00m\n\u001b[32m     98\u001b[39m     \u001b[38;5;66;03m# a counter, will fail if the metric is not observable, because only if a\u001b[39;00m\n\u001b[32m     99\u001b[39m     \u001b[38;5;66;03m# metric is observable will the value be initialized.\u001b[39;00m\n\u001b[32m    100\u001b[39m     \u001b[38;5;28;01mif\u001b[39;00m \u001b[38;5;129;01mnot\u001b[39;00m \u001b[38;5;28mself\u001b[39m._is_observable():\n\u001b[32m--> \u001b[39m\u001b[32m101\u001b[39m         \u001b[38;5;28;01mraise\u001b[39;00m \u001b[38;5;167;01mValueError\u001b[39;00m(\u001b[33m'\u001b[39m\u001b[38;5;132;01m%s\u001b[39;00m\u001b[33m metric is missing label values\u001b[39m\u001b[33m'\u001b[39m % \u001b[38;5;28mstr\u001b[39m(\u001b[38;5;28mself\u001b[39m._type))\n",
      "\u001b[31mValueError\u001b[39m: counter metric is missing label values"
     ]
    }
   ],
   "source": [
    "@REQUEST_TIME.time()\n",
    "def process_request(t,n):\n",
    "    MY_COUNTER.inc(amount=n)\n",
    "    MY_GUAGE.set(value=2)  # set the gauge\n",
    "    MY_GUAGE.inc(amount=n)  # increase the gauge\n",
    "    MY_GUAGE.dec(amount=n-1)  # decrease the gauge\n",
    "    time.sleep(t)\n",
    "\n",
    "start_http_server(port=8000)\n",
    "process_request(t=random.random(),n=random.randint(a=1,b=10))\n",
    "while True:\n",
    "    A=1\n",
    "print(\"The End\")"
   ]
  },
  {
   "cell_type": "markdown",
   "id": "361c4e18-44c5-44b5-9552-5bc937709d59",
   "metadata": {},
   "source": [
    "<h3>Handling Error Requests</h3>"
   ]
  },
  {
   "cell_type": "code",
   "execution_count": 4,
   "id": "09804692-36c6-4613-8ab1-c3756db3f545",
   "metadata": {},
   "outputs": [
    {
     "ename": "NameError",
     "evalue": "name 'MY_COUNTER' is not defined",
     "output_type": "error",
     "traceback": [
      "\u001b[31m---------------------------------------------------------------------------\u001b[39m",
      "\u001b[31mNameError\u001b[39m                                 Traceback (most recent call last)",
      "\u001b[36mCell\u001b[39m\u001b[36m \u001b[39m\u001b[32mIn[4]\u001b[39m\u001b[32m, line 2\u001b[39m\n\u001b[32m      1\u001b[39m \u001b[38;5;129m@REQUEST_TIME\u001b[39m.time()\n\u001b[32m----> \u001b[39m\u001b[32m2\u001b[39m \u001b[38;5;129m@MY_COUNTER\u001b[39m.count_exceptions()  \u001b[38;5;66;03m# display the exceptions if it happens\u001b[39;00m\n\u001b[32m      3\u001b[39m \u001b[38;5;28;01mdef\u001b[39;00m\u001b[38;5;250m \u001b[39m\u001b[34mprocess_request\u001b[39m(t,n):\n\u001b[32m      4\u001b[39m     MY_COUNTER.inc(amount=n)\n\u001b[32m      5\u001b[39m     MY_GUAGE.set(value=\u001b[32m2\u001b[39m)  \u001b[38;5;66;03m# set the gauge\u001b[39;00m\n",
      "\u001b[31mNameError\u001b[39m: name 'MY_COUNTER' is not defined"
     ]
    }
   ],
   "source": [
    "@REQUEST_TIME.time()\n",
    "@MY_COUNTER.count_exceptions()  # display the exceptions if it happens\n",
    "def process_request(t,n):\n",
    "    MY_COUNTER.inc(amount=n)\n",
    "    MY_GUAGE.set(value=2)  # set the gauge\n",
    "    MY_GUAGE.inc(amount=n)  # increase the gauge\n",
    "    MY_GUAGE.dec(amount=n-1)  # decrease the gauge\n",
    "    time.sleep(t)\n",
    "\n",
    "start_http_server(port=8000)\n",
    "process_request(t=random.random(),n=random.randint(a=1,b=10))\n",
    "while True:\n",
    "    A=1\n",
    "print(\"The End\")"
   ]
  },
  {
   "cell_type": "markdown",
   "id": "868bb96a-e752-4b6b-a1a4-24c9fbfdcdb7",
   "metadata": {},
   "source": [
    "<h3>Labels</h3>"
   ]
  },
  {
   "cell_type": "code",
   "execution_count": 8,
   "id": "9734566b-6560-4afd-93f8-3cca036ba1a2",
   "metadata": {},
   "outputs": [
    {
     "ename": "ValueError",
     "evalue": "Duplicated timeseries in CollectorRegistry: {'my_counter_with_labels_created', 'my_counter_with_labels', 'my_counter_with_labels_total'}",
     "output_type": "error",
     "traceback": [
      "\u001b[31m---------------------------------------------------------------------------\u001b[39m",
      "\u001b[31mValueError\u001b[39m                                Traceback (most recent call last)",
      "\u001b[36mCell\u001b[39m\u001b[36m \u001b[39m\u001b[32mIn[8]\u001b[39m\u001b[32m, line 1\u001b[39m\n\u001b[32m----> \u001b[39m\u001b[32m1\u001b[39m MY_COUNTER=\u001b[43mCounter\u001b[49m\u001b[43m(\u001b[49m\u001b[43mname\u001b[49m\u001b[43m=\u001b[49m\u001b[33;43m\"\u001b[39;49m\u001b[33;43mmy_counter_with_labels\u001b[39;49m\u001b[33;43m\"\u001b[39;49m\u001b[43m,\u001b[49m\u001b[43mdocumentation\u001b[49m\u001b[43m=\u001b[49m\u001b[33;43m\"\u001b[39;49m\u001b[33;43m\"\u001b[39;49m\u001b[43m,\u001b[49m\u001b[43mlabelnames\u001b[49m\u001b[43m=\u001b[49m\u001b[43m[\u001b[49m\u001b[33;43m\"\u001b[39;49m\u001b[33;43mname\u001b[39;49m\u001b[33;43m\"\u001b[39;49m\u001b[43m,\u001b[49m\u001b[33;43m\"\u001b[39;49m\u001b[33;43mage\u001b[39;49m\u001b[33;43m\"\u001b[39;49m\u001b[43m]\u001b[49m\u001b[43m)\u001b[49m\n",
      "\u001b[36mFile \u001b[39m\u001b[32m~/Studies/prometheus_graphana/prmenv/lib/python3.12/site-packages/prometheus_client/metrics.py:156\u001b[39m, in \u001b[36mMetricWrapperBase.__init__\u001b[39m\u001b[34m(self, name, documentation, labelnames, namespace, subsystem, unit, registry, _labelvalues)\u001b[39m\n\u001b[32m    153\u001b[39m \u001b[38;5;28;01mif\u001b[39;00m \u001b[38;5;129;01mnot\u001b[39;00m \u001b[38;5;28mself\u001b[39m._labelvalues:\n\u001b[32m    154\u001b[39m     \u001b[38;5;66;03m# Register the multi-wrapper parent metric, or if a label-less metric, the whole shebang.\u001b[39;00m\n\u001b[32m    155\u001b[39m     \u001b[38;5;28;01mif\u001b[39;00m registry:\n\u001b[32m--> \u001b[39m\u001b[32m156\u001b[39m         \u001b[43mregistry\u001b[49m\u001b[43m.\u001b[49m\u001b[43mregister\u001b[49m\u001b[43m(\u001b[49m\u001b[38;5;28;43mself\u001b[39;49m\u001b[43m)\u001b[49m\n",
      "\u001b[36mFile \u001b[39m\u001b[32m~/Studies/prometheus_graphana/prmenv/lib/python3.12/site-packages/prometheus_client/registry.py:43\u001b[39m, in \u001b[36mCollectorRegistry.register\u001b[39m\u001b[34m(self, collector)\u001b[39m\n\u001b[32m     41\u001b[39m duplicates = \u001b[38;5;28mset\u001b[39m(\u001b[38;5;28mself\u001b[39m._names_to_collectors).intersection(names)\n\u001b[32m     42\u001b[39m \u001b[38;5;28;01mif\u001b[39;00m duplicates:\n\u001b[32m---> \u001b[39m\u001b[32m43\u001b[39m     \u001b[38;5;28;01mraise\u001b[39;00m \u001b[38;5;167;01mValueError\u001b[39;00m(\n\u001b[32m     44\u001b[39m         \u001b[33m'\u001b[39m\u001b[33mDuplicated timeseries in CollectorRegistry: \u001b[39m\u001b[38;5;132;01m{}\u001b[39;00m\u001b[33m'\u001b[39m.format(\n\u001b[32m     45\u001b[39m             duplicates))\n\u001b[32m     46\u001b[39m \u001b[38;5;28;01mfor\u001b[39;00m name \u001b[38;5;129;01min\u001b[39;00m names:\n\u001b[32m     47\u001b[39m     \u001b[38;5;28mself\u001b[39m._names_to_collectors[name] = collector\n",
      "\u001b[31mValueError\u001b[39m: Duplicated timeseries in CollectorRegistry: {'my_counter_with_labels_created', 'my_counter_with_labels', 'my_counter_with_labels_total'}"
     ]
    }
   ],
   "source": [
    "MY_COUNTER=Counter(name=\"my_counter_with_labels\",documentation=\"\",labelnames=[\"name\",\"age\"])"
   ]
  },
  {
   "cell_type": "code",
   "execution_count": 7,
   "id": "914124e4-f01d-4797-9c20-063759323235",
   "metadata": {},
   "outputs": [
    {
     "ename": "ValueError",
     "evalue": "counter metric is missing label values",
     "output_type": "error",
     "traceback": [
      "\u001b[31m---------------------------------------------------------------------------\u001b[39m",
      "\u001b[31mValueError\u001b[39m                                Traceback (most recent call last)",
      "\u001b[36mCell\u001b[39m\u001b[36m \u001b[39m\u001b[32mIn[7]\u001b[39m\u001b[32m, line 2\u001b[39m\n\u001b[32m      1\u001b[39m \u001b[38;5;129m@REQUEST_TIME\u001b[39m.time()\n\u001b[32m----> \u001b[39m\u001b[32m2\u001b[39m \u001b[38;5;129m@MY_COUNTER\u001b[39m\u001b[43m.\u001b[49m\u001b[43mcount_exceptions\u001b[49m\u001b[43m(\u001b[49m\u001b[43m)\u001b[49m\n\u001b[32m      3\u001b[39m \u001b[38;5;28;01mdef\u001b[39;00m\u001b[38;5;250m \u001b[39m\u001b[34mprocess_request\u001b[39m(t,n):\n\u001b[32m      4\u001b[39m     MY_COUNTER.labels(name=\u001b[33m\"\u001b[39m\u001b[33mritish\u001b[39m\u001b[33m\"\u001b[39m,age=\u001b[32m35\u001b[39m).inc(amount=n)\n\u001b[32m      5\u001b[39m     MY_GUAGE.set(value=\u001b[32m2\u001b[39m)  \u001b[38;5;66;03m# set the gauge\u001b[39;00m\n",
      "\u001b[36mFile \u001b[39m\u001b[32m~/Studies/prometheus_graphana/prmenv/lib/python3.12/site-packages/prometheus_client/metrics.py:331\u001b[39m, in \u001b[36mCounter.count_exceptions\u001b[39m\u001b[34m(self, exception)\u001b[39m\n\u001b[32m    324\u001b[39m \u001b[38;5;28;01mdef\u001b[39;00m\u001b[38;5;250m \u001b[39m\u001b[34mcount_exceptions\u001b[39m(\u001b[38;5;28mself\u001b[39m, exception: Union[Type[\u001b[38;5;167;01mBaseException\u001b[39;00m], Tuple[Type[\u001b[38;5;167;01mBaseException\u001b[39;00m], ...]] = \u001b[38;5;167;01mException\u001b[39;00m) -> ExceptionCounter:\n\u001b[32m    325\u001b[39m \u001b[38;5;250m    \u001b[39m\u001b[33;03m\"\"\"Count exceptions in a block of code or function.\u001b[39;00m\n\u001b[32m    326\u001b[39m \n\u001b[32m    327\u001b[39m \u001b[33;03m    Can be used as a function decorator or context manager.\u001b[39;00m\n\u001b[32m    328\u001b[39m \u001b[33;03m    Increments the counter when an exception of the given\u001b[39;00m\n\u001b[32m    329\u001b[39m \u001b[33;03m    type is raised up out of the code.\u001b[39;00m\n\u001b[32m    330\u001b[39m \u001b[33;03m    \"\"\"\u001b[39;00m\n\u001b[32m--> \u001b[39m\u001b[32m331\u001b[39m     \u001b[38;5;28;43mself\u001b[39;49m\u001b[43m.\u001b[49m\u001b[43m_raise_if_not_observable\u001b[49m\u001b[43m(\u001b[49m\u001b[43m)\u001b[49m\n\u001b[32m    332\u001b[39m     \u001b[38;5;28;01mreturn\u001b[39;00m ExceptionCounter(\u001b[38;5;28mself\u001b[39m, exception)\n",
      "\u001b[36mFile \u001b[39m\u001b[32m~/Studies/prometheus_graphana/prmenv/lib/python3.12/site-packages/prometheus_client/metrics.py:101\u001b[39m, in \u001b[36mMetricWrapperBase._raise_if_not_observable\u001b[39m\u001b[34m(self)\u001b[39m\n\u001b[32m     96\u001b[39m \u001b[38;5;28;01mdef\u001b[39;00m\u001b[38;5;250m \u001b[39m\u001b[34m_raise_if_not_observable\u001b[39m(\u001b[38;5;28mself\u001b[39m):\n\u001b[32m     97\u001b[39m     \u001b[38;5;66;03m# Functions that mutate the state of the metric, for example incrementing\u001b[39;00m\n\u001b[32m     98\u001b[39m     \u001b[38;5;66;03m# a counter, will fail if the metric is not observable, because only if a\u001b[39;00m\n\u001b[32m     99\u001b[39m     \u001b[38;5;66;03m# metric is observable will the value be initialized.\u001b[39;00m\n\u001b[32m    100\u001b[39m     \u001b[38;5;28;01mif\u001b[39;00m \u001b[38;5;129;01mnot\u001b[39;00m \u001b[38;5;28mself\u001b[39m._is_observable():\n\u001b[32m--> \u001b[39m\u001b[32m101\u001b[39m         \u001b[38;5;28;01mraise\u001b[39;00m \u001b[38;5;167;01mValueError\u001b[39;00m(\u001b[33m'\u001b[39m\u001b[38;5;132;01m%s\u001b[39;00m\u001b[33m metric is missing label values\u001b[39m\u001b[33m'\u001b[39m % \u001b[38;5;28mstr\u001b[39m(\u001b[38;5;28mself\u001b[39m._type))\n",
      "\u001b[31mValueError\u001b[39m: counter metric is missing label values"
     ]
    }
   ],
   "source": [
    "@REQUEST_TIME.time()\n",
    "@MY_COUNTER.count_exceptions()\n",
    "def process_request(t,n):\n",
    "    MY_COUNTER.labels(name=\"ritish\",age=35).inc(amount=n)\n",
    "    MY_GUAGE.set(value=2)  # set the gauge\n",
    "    MY_GUAGE.inc(amount=n)  # increase the gauge\n",
    "    MY_GUAGE.dec(amount=n-1)  # decrease the gauge\n",
    "    time.sleep(t)\n",
    "\n",
    "start_http_server(port=8000)\n",
    "process_request(t=random.random(),n=random.randint(a=1,b=10))\n",
    "while True:\n",
    "    A=1\n",
    "print(\"The End\")"
   ]
  },
  {
   "cell_type": "code",
   "execution_count": null,
   "id": "241d99dd",
   "metadata": {},
   "outputs": [],
   "source": []
  }
 ],
 "metadata": {
  "kernelspec": {
   "display_name": "prmenv",
   "language": "python",
   "name": "python3"
  },
  "language_info": {
   "codemirror_mode": {
    "name": "ipython",
    "version": 3
   },
   "file_extension": ".py",
   "mimetype": "text/x-python",
   "name": "python",
   "nbconvert_exporter": "python",
   "pygments_lexer": "ipython3",
   "version": "3.12.3"
  }
 },
 "nbformat": 4,
 "nbformat_minor": 5
}
