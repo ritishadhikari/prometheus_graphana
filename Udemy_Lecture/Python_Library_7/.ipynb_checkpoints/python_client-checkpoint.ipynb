{
 "cells": [
  {
   "cell_type": "code",
   "execution_count": 1,
   "id": "b138c941-87be-483c-8076-5264cdd69932",
   "metadata": {},
   "outputs": [],
   "source": [
    "from prometheus_client import start_http_server,Summary,Counter,Gauge\n",
    "import random\n",
    "import time"
   ]
  },
  {
   "cell_type": "code",
   "execution_count": 2,
   "id": "80296735-4952-4661-b0ce-46f9e0935d96",
   "metadata": {},
   "outputs": [],
   "source": [
    "REQUEST_TIME=Summary(name=\"request_processing_second\",documentation=\"Time Spent processing a function\")"
   ]
  },
  {
   "cell_type": "code",
   "execution_count": null,
   "id": "607b291d-284e-4986-8d51-8abd3c47dbeb",
   "metadata": {},
   "outputs": [],
   "source": [
    "@REQUEST_TIME.time()\n",
    "def process_request(t):\n",
    "    time.sleep(t)\n",
    "\n",
    "start_http_server(port=8000)\n",
    "while True:\n",
    "    process_request(t=random.random())\n",
    "\n",
    "print(\"The End\")"
   ]
  },
  {
   "cell_type": "markdown",
   "id": "80d3710a-bbbd-4850-8221-3bef680ba4ea",
   "metadata": {},
   "source": [
    "<h3>Counter</h3>"
   ]
  },
  {
   "cell_type": "code",
   "execution_count": 3,
   "id": "8d174181-84e9-491a-8ba3-2350f679d785",
   "metadata": {},
   "outputs": [],
   "source": [
    "MY_COUNTER=Counter(name=\"my_counter\",documentation=\"\")"
   ]
  },
  {
   "cell_type": "code",
   "execution_count": null,
   "id": "bebb7936-5ca1-43fc-b67b-4cef3e63b1d4",
   "metadata": {
    "scrolled": true
   },
   "outputs": [],
   "source": [
    "@REQUEST_TIME.time()\n",
    "def process_request(t,n):\n",
    "    MY_COUNTER.inc()\n",
    "    time.sleep(t)\n",
    "\n",
    "start_http_server(port=8000)\n",
    "process_request(t=random.random(),n=random.randint(a=1,b=10))\n",
    "while True:\n",
    "    A=1\n",
    "print(\"The End\")"
   ]
  },
  {
   "cell_type": "markdown",
   "id": "8aa46bb4-0c11-4d52-a467-57bc09121a43",
   "metadata": {},
   "source": [
    "<h3>Guage</h3>"
   ]
  },
  {
   "cell_type": "code",
   "execution_count": 4,
   "id": "e998f7c0-2a2a-40b3-886d-d834a0753ce2",
   "metadata": {},
   "outputs": [],
   "source": [
    "MY_GUAGE=Gauge(name=\"my_gauge\",documentation=\"\")"
   ]
  },
  {
   "cell_type": "code",
   "execution_count": null,
   "id": "d85b8c01-bf3f-4600-b1de-d36c0f827551",
   "metadata": {},
   "outputs": [],
   "source": [
    "@REQUEST_TIME.time()\n",
    "def process_request(t,n):\n",
    "    MY_COUNTER.inc(amount=n)\n",
    "    MY_GUAGE.set(value=2)  # set the gauge\n",
    "    MY_GUAGE.inc(amount=n)  # increase the gauge\n",
    "    MY_GUAGE.dec(amount=n-1)  # decrease the gauge\n",
    "    time.sleep(t)\n",
    "\n",
    "start_http_server(port=8000)\n",
    "process_request(t=random.random(),n=random.randint(a=1,b=10))\n",
    "while True:\n",
    "    A=1\n",
    "print(\"The End\")"
   ]
  },
  {
   "cell_type": "markdown",
   "id": "361c4e18-44c5-44b5-9552-5bc937709d59",
   "metadata": {},
   "source": [
    "<h3>Handling Error Requests</h3>"
   ]
  },
  {
   "cell_type": "code",
   "execution_count": null,
   "id": "09804692-36c6-4613-8ab1-c3756db3f545",
   "metadata": {},
   "outputs": [],
   "source": [
    "@REQUEST_TIME.time()\n",
    "@MY_COUNTER.count_exceptions()  # display the exceptions if it happens\n",
    "def process_request(t,n):\n",
    "    MY_COUNTER.inc(amount=n)\n",
    "    MY_GUAGE.set(value=2)  # set the gauge\n",
    "    MY_GUAGE.inc(amount=n)  # increase the gauge\n",
    "    MY_GUAGE.dec(amount=n-1)  # decrease the gauge\n",
    "    time.sleep(t)\n",
    "\n",
    "start_http_server(port=8000)\n",
    "process_request(t=random.random(),n=random.randint(a=1,b=10))\n",
    "while True:\n",
    "    A=1\n",
    "print(\"The End\")"
   ]
  },
  {
   "cell_type": "markdown",
   "id": "868bb96a-e752-4b6b-a1a4-24c9fbfdcdb7",
   "metadata": {},
   "source": [
    "<h3>Labels</h3>"
   ]
  },
  {
   "cell_type": "code",
   "execution_count": 9,
   "id": "9734566b-6560-4afd-93f8-3cca036ba1a2",
   "metadata": {},
   "outputs": [],
   "source": [
    "MY_COUNTER=Counter(name=\"my_counter_with_labels\",documentation=\"\",labelnames=[\"names\",\"age\"])"
   ]
  },
  {
   "cell_type": "code",
   "execution_count": null,
   "id": "914124e4-f01d-4797-9c20-063759323235",
   "metadata": {},
   "outputs": [],
   "source": [
    "@REQUEST_TIME.time()\n",
    "@MY_COUNTER.count_exceptions()\n",
    "def process_request(t,n):\n",
    "    MY_COUNTER.inc(amount=n)\n",
    "    MY_GUAGE.set(value=2)  # set the gauge\n",
    "    MY_GUAGE.inc(amount=n)  # increase the gauge\n",
    "    MY_GUAGE.dec(amount=n-1)  # decrease the gauge\n",
    "    time.sleep(t)\n",
    "\n",
    "start_http_server(port=8000)\n",
    "process_request(t=random.random(),n=random.randint(a=1,b=10))\n",
    "while True:\n",
    "    A=1\n",
    "print(\"The End\")"
   ]
  }
 ],
 "metadata": {
  "kernelspec": {
   "display_name": "Python 3 (ipykernel)",
   "language": "python",
   "name": "python3"
  },
  "language_info": {
   "codemirror_mode": {
    "name": "ipython",
    "version": 3
   },
   "file_extension": ".py",
   "mimetype": "text/x-python",
   "name": "python",
   "nbconvert_exporter": "python",
   "pygments_lexer": "ipython3",
   "version": "3.12.9"
  }
 },
 "nbformat": 4,
 "nbformat_minor": 5
}
